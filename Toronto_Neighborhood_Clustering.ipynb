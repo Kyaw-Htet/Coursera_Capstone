{
 "cells": [
  {
   "cell_type": "markdown",
   "metadata": {},
   "source": [
    "# Segmenting and Clustering Neighborhoods in Toronto\n",
    "+ Import libraries"
   ]
  },
  {
   "cell_type": "code",
   "execution_count": 1,
   "metadata": {},
   "outputs": [],
   "source": [
    "from bs4 import BeautifulSoup\n",
    "import requests\n",
    "import pandas as pd"
   ]
  },
  {
   "cell_type": "markdown",
   "metadata": {},
   "source": [
    "+ Get xml text from the link (https://en.wikipedia.org/wiki/List_of_postal_codes_of_Canada:_M)"
   ]
  },
  {
   "cell_type": "code",
   "execution_count": 2,
   "metadata": {},
   "outputs": [],
   "source": [
    "source = requests.get('https://en.wikipedia.org/wiki/List_of_postal_codes_of_Canada:_M').text\n",
    "soup = BeautifulSoup(source,'lxml')"
   ]
  },
  {
   "cell_type": "markdown",
   "metadata": {},
   "source": [
    "+ Get the list of postal code of Toronto and put into a dataframe 'df'. If the cells have an assigned borough. ignore cells with a borough that is Not assigned. If a cell has a borough but a Not assigned neighborhood, then the neighborhood will be the same as the borough."
   ]
  },
  {
   "cell_type": "code",
   "execution_count": 3,
   "metadata": {},
   "outputs": [
    {
     "data": {
      "text/html": [
       "<div>\n",
       "<style scoped>\n",
       "    .dataframe tbody tr th:only-of-type {\n",
       "        vertical-align: middle;\n",
       "    }\n",
       "\n",
       "    .dataframe tbody tr th {\n",
       "        vertical-align: top;\n",
       "    }\n",
       "\n",
       "    .dataframe thead th {\n",
       "        text-align: right;\n",
       "    }\n",
       "</style>\n",
       "<table border=\"1\" class=\"dataframe\">\n",
       "  <thead>\n",
       "    <tr style=\"text-align: right;\">\n",
       "      <th></th>\n",
       "      <th>PostalCode</th>\n",
       "      <th>Borough</th>\n",
       "      <th>Neighbourhood</th>\n",
       "    </tr>\n",
       "  </thead>\n",
       "  <tbody>\n",
       "    <tr>\n",
       "      <th>0</th>\n",
       "      <td>M3A</td>\n",
       "      <td>North York</td>\n",
       "      <td>Parkwoods</td>\n",
       "    </tr>\n",
       "    <tr>\n",
       "      <th>1</th>\n",
       "      <td>M4A</td>\n",
       "      <td>North York</td>\n",
       "      <td>Victoria Village</td>\n",
       "    </tr>\n",
       "    <tr>\n",
       "      <th>2</th>\n",
       "      <td>M5A</td>\n",
       "      <td>Downtown Toronto</td>\n",
       "      <td>Harbourfront</td>\n",
       "    </tr>\n",
       "    <tr>\n",
       "      <th>3</th>\n",
       "      <td>M5A</td>\n",
       "      <td>Downtown Toronto</td>\n",
       "      <td>Regent Park</td>\n",
       "    </tr>\n",
       "    <tr>\n",
       "      <th>4</th>\n",
       "      <td>M6A</td>\n",
       "      <td>North York</td>\n",
       "      <td>Lawrence Heights</td>\n",
       "    </tr>\n",
       "  </tbody>\n",
       "</table>\n",
       "</div>"
      ],
      "text/plain": [
       "  PostalCode           Borough     Neighbourhood\n",
       "0        M3A        North York         Parkwoods\n",
       "1        M4A        North York  Victoria Village\n",
       "2        M5A  Downtown Toronto      Harbourfront\n",
       "3        M5A  Downtown Toronto       Regent Park\n",
       "4        M6A        North York  Lawrence Heights"
      ]
     },
     "execution_count": 3,
     "metadata": {},
     "output_type": "execute_result"
    }
   ],
   "source": [
    "table = []\n",
    "for tr in soup.find_all('tr'):\n",
    "    row = []\n",
    "    for td in tr.find_all('td'):        \n",
    "        row.append(td.text.strip())\n",
    "    if len(row)==3 and row[1] != 'Not assigned':\n",
    "        if row[2] == 'Not assigned':            \n",
    "            row[2] = row[1]\n",
    "        table.append(row)        \n",
    "df = pd.DataFrame(table)\n",
    "df.columns = ['PostalCode','Borough','Neighbourhood']\n",
    "df.head()\n"
   ]
  },
  {
   "cell_type": "markdown",
   "metadata": {},
   "source": [
    "+ Sort df by 'Code' and put into a new dataframe 'df1'."
   ]
  },
  {
   "cell_type": "code",
   "execution_count": 4,
   "metadata": {},
   "outputs": [
    {
     "data": {
      "text/html": [
       "<div>\n",
       "<style scoped>\n",
       "    .dataframe tbody tr th:only-of-type {\n",
       "        vertical-align: middle;\n",
       "    }\n",
       "\n",
       "    .dataframe tbody tr th {\n",
       "        vertical-align: top;\n",
       "    }\n",
       "\n",
       "    .dataframe thead th {\n",
       "        text-align: right;\n",
       "    }\n",
       "</style>\n",
       "<table border=\"1\" class=\"dataframe\">\n",
       "  <thead>\n",
       "    <tr style=\"text-align: right;\">\n",
       "      <th></th>\n",
       "      <th>PostalCode</th>\n",
       "      <th>Borough</th>\n",
       "      <th>Neighbourhood</th>\n",
       "    </tr>\n",
       "  </thead>\n",
       "  <tbody>\n",
       "    <tr>\n",
       "      <th>8</th>\n",
       "      <td>M1B</td>\n",
       "      <td>Scarborough</td>\n",
       "      <td>Rouge</td>\n",
       "    </tr>\n",
       "    <tr>\n",
       "      <th>9</th>\n",
       "      <td>M1B</td>\n",
       "      <td>Scarborough</td>\n",
       "      <td>Malvern</td>\n",
       "    </tr>\n",
       "    <tr>\n",
       "      <th>23</th>\n",
       "      <td>M1C</td>\n",
       "      <td>Scarborough</td>\n",
       "      <td>Port Union</td>\n",
       "    </tr>\n",
       "    <tr>\n",
       "      <th>22</th>\n",
       "      <td>M1C</td>\n",
       "      <td>Scarborough</td>\n",
       "      <td>Rouge Hill</td>\n",
       "    </tr>\n",
       "    <tr>\n",
       "      <th>21</th>\n",
       "      <td>M1C</td>\n",
       "      <td>Scarborough</td>\n",
       "      <td>Highland Creek</td>\n",
       "    </tr>\n",
       "  </tbody>\n",
       "</table>\n",
       "</div>"
      ],
      "text/plain": [
       "   PostalCode      Borough   Neighbourhood\n",
       "8         M1B  Scarborough           Rouge\n",
       "9         M1B  Scarborough         Malvern\n",
       "23        M1C  Scarborough      Port Union\n",
       "22        M1C  Scarborough      Rouge Hill\n",
       "21        M1C  Scarborough  Highland Creek"
      ]
     },
     "execution_count": 4,
     "metadata": {},
     "output_type": "execute_result"
    }
   ],
   "source": [
    "df1 = df.sort_values(by=['PostalCode'])\n",
    "df1.head()"
   ]
  },
  {
   "cell_type": "markdown",
   "metadata": {},
   "source": [
    "+ If more than one neighborhood exist in one postal code area, these two rows will be combined into one row with the neighborhoods separated with a comma. Create a new dataframe 'df2'"
   ]
  },
  {
   "cell_type": "code",
   "execution_count": 5,
   "metadata": {},
   "outputs": [
    {
     "name": "stdout",
     "output_type": "stream",
     "text": [
      "  PostalCode      Borough                           Neighbourhood\n",
      "0        M1B  Scarborough                          Rouge, Malvern\n",
      "1        M1C  Scarborough  Port Union, Rouge Hill, Highland Creek\n",
      "2        M1E  Scarborough       Guildwood, Morningside, West Hill\n",
      "3        M1G  Scarborough                                  Woburn\n",
      "4        M1H  Scarborough                               Cedarbrae\n",
      "Dataframe has the shape of (103, 3)\n"
     ]
    }
   ],
   "source": [
    "current_code = ''\n",
    "table=[]\n",
    "t_index = 0;\n",
    "for index, row in df1.iterrows():\n",
    "    if row['PostalCode']!=current_code:\n",
    "        current_code = row['PostalCode']\n",
    "        table.append([row['PostalCode'], row['Borough'],row['Neighbourhood']])\n",
    "        t_index = t_index + 1\n",
    "    else:\n",
    "        table[t_index-1][2] = table[t_index-1][2] + ', ' + row['Neighbourhood']\n",
    "        \n",
    "df2 = pd.DataFrame(table)\n",
    "df2.columns = ['PostalCode','Borough','Neighbourhood']\n",
    "print(df2.head())\n",
    "print(\"Dataframe has the shape of \" + str(df2.shape))"
   ]
  },
  {
   "cell_type": "markdown",
   "metadata": {},
   "source": [
    "* Read latitude and longitude information for postal codes and create a new dataframe 'Geo_df'"
   ]
  },
  {
   "cell_type": "code",
   "execution_count": 6,
   "metadata": {},
   "outputs": [
    {
     "data": {
      "text/html": [
       "<div>\n",
       "<style scoped>\n",
       "    .dataframe tbody tr th:only-of-type {\n",
       "        vertical-align: middle;\n",
       "    }\n",
       "\n",
       "    .dataframe tbody tr th {\n",
       "        vertical-align: top;\n",
       "    }\n",
       "\n",
       "    .dataframe thead th {\n",
       "        text-align: right;\n",
       "    }\n",
       "</style>\n",
       "<table border=\"1\" class=\"dataframe\">\n",
       "  <thead>\n",
       "    <tr style=\"text-align: right;\">\n",
       "      <th></th>\n",
       "      <th>Postal Code</th>\n",
       "      <th>Latitude</th>\n",
       "      <th>Longitude</th>\n",
       "    </tr>\n",
       "  </thead>\n",
       "  <tbody>\n",
       "    <tr>\n",
       "      <th>0</th>\n",
       "      <td>M1B</td>\n",
       "      <td>43.806686</td>\n",
       "      <td>-79.194353</td>\n",
       "    </tr>\n",
       "    <tr>\n",
       "      <th>1</th>\n",
       "      <td>M1C</td>\n",
       "      <td>43.784535</td>\n",
       "      <td>-79.160497</td>\n",
       "    </tr>\n",
       "    <tr>\n",
       "      <th>2</th>\n",
       "      <td>M1E</td>\n",
       "      <td>43.763573</td>\n",
       "      <td>-79.188711</td>\n",
       "    </tr>\n",
       "    <tr>\n",
       "      <th>3</th>\n",
       "      <td>M1G</td>\n",
       "      <td>43.770992</td>\n",
       "      <td>-79.216917</td>\n",
       "    </tr>\n",
       "    <tr>\n",
       "      <th>4</th>\n",
       "      <td>M1H</td>\n",
       "      <td>43.773136</td>\n",
       "      <td>-79.239476</td>\n",
       "    </tr>\n",
       "  </tbody>\n",
       "</table>\n",
       "</div>"
      ],
      "text/plain": [
       "  Postal Code   Latitude  Longitude\n",
       "0         M1B  43.806686 -79.194353\n",
       "1         M1C  43.784535 -79.160497\n",
       "2         M1E  43.763573 -79.188711\n",
       "3         M1G  43.770992 -79.216917\n",
       "4         M1H  43.773136 -79.239476"
      ]
     },
     "execution_count": 6,
     "metadata": {},
     "output_type": "execute_result"
    }
   ],
   "source": [
    "Geo_df = pd.read_csv('http://cocl.us/Geospatial_data')\n",
    "Geo_df.head()"
   ]
  },
  {
   "cell_type": "markdown",
   "metadata": {},
   "source": [
    "* Merge two dataframes: 'df2' and 'Geo_df' and create a new dataframe 'df_merge'"
   ]
  },
  {
   "cell_type": "code",
   "execution_count": 7,
   "metadata": {},
   "outputs": [
    {
     "data": {
      "text/html": [
       "<div>\n",
       "<style scoped>\n",
       "    .dataframe tbody tr th:only-of-type {\n",
       "        vertical-align: middle;\n",
       "    }\n",
       "\n",
       "    .dataframe tbody tr th {\n",
       "        vertical-align: top;\n",
       "    }\n",
       "\n",
       "    .dataframe thead th {\n",
       "        text-align: right;\n",
       "    }\n",
       "</style>\n",
       "<table border=\"1\" class=\"dataframe\">\n",
       "  <thead>\n",
       "    <tr style=\"text-align: right;\">\n",
       "      <th></th>\n",
       "      <th>PostalCode</th>\n",
       "      <th>Borough</th>\n",
       "      <th>Neighbourhood</th>\n",
       "      <th>Postal Code</th>\n",
       "      <th>Latitude</th>\n",
       "      <th>Longitude</th>\n",
       "    </tr>\n",
       "  </thead>\n",
       "  <tbody>\n",
       "    <tr>\n",
       "      <th>0</th>\n",
       "      <td>M1B</td>\n",
       "      <td>Scarborough</td>\n",
       "      <td>Rouge, Malvern</td>\n",
       "      <td>M1B</td>\n",
       "      <td>43.806686</td>\n",
       "      <td>-79.194353</td>\n",
       "    </tr>\n",
       "    <tr>\n",
       "      <th>1</th>\n",
       "      <td>M1C</td>\n",
       "      <td>Scarborough</td>\n",
       "      <td>Port Union, Rouge Hill, Highland Creek</td>\n",
       "      <td>M1C</td>\n",
       "      <td>43.784535</td>\n",
       "      <td>-79.160497</td>\n",
       "    </tr>\n",
       "    <tr>\n",
       "      <th>2</th>\n",
       "      <td>M1E</td>\n",
       "      <td>Scarborough</td>\n",
       "      <td>Guildwood, Morningside, West Hill</td>\n",
       "      <td>M1E</td>\n",
       "      <td>43.763573</td>\n",
       "      <td>-79.188711</td>\n",
       "    </tr>\n",
       "    <tr>\n",
       "      <th>3</th>\n",
       "      <td>M1G</td>\n",
       "      <td>Scarborough</td>\n",
       "      <td>Woburn</td>\n",
       "      <td>M1G</td>\n",
       "      <td>43.770992</td>\n",
       "      <td>-79.216917</td>\n",
       "    </tr>\n",
       "    <tr>\n",
       "      <th>4</th>\n",
       "      <td>M1H</td>\n",
       "      <td>Scarborough</td>\n",
       "      <td>Cedarbrae</td>\n",
       "      <td>M1H</td>\n",
       "      <td>43.773136</td>\n",
       "      <td>-79.239476</td>\n",
       "    </tr>\n",
       "  </tbody>\n",
       "</table>\n",
       "</div>"
      ],
      "text/plain": [
       "  PostalCode      Borough                           Neighbourhood Postal Code  \\\n",
       "0        M1B  Scarborough                          Rouge, Malvern         M1B   \n",
       "1        M1C  Scarborough  Port Union, Rouge Hill, Highland Creek         M1C   \n",
       "2        M1E  Scarborough       Guildwood, Morningside, West Hill         M1E   \n",
       "3        M1G  Scarborough                                  Woburn         M1G   \n",
       "4        M1H  Scarborough                               Cedarbrae         M1H   \n",
       "\n",
       "    Latitude  Longitude  \n",
       "0  43.806686 -79.194353  \n",
       "1  43.784535 -79.160497  \n",
       "2  43.763573 -79.188711  \n",
       "3  43.770992 -79.216917  \n",
       "4  43.773136 -79.239476  "
      ]
     },
     "execution_count": 7,
     "metadata": {},
     "output_type": "execute_result"
    }
   ],
   "source": [
    "df_merge = df2.merge(Geo_df, left_on='PostalCode', right_on='Postal Code')\n",
    "df_merge.head()"
   ]
  },
  {
   "cell_type": "markdown",
   "metadata": {},
   "source": [
    "* Filter Borough containing Toronto"
   ]
  },
  {
   "cell_type": "code",
   "execution_count": 8,
   "metadata": {},
   "outputs": [
    {
     "data": {
      "text/html": [
       "<div>\n",
       "<style scoped>\n",
       "    .dataframe tbody tr th:only-of-type {\n",
       "        vertical-align: middle;\n",
       "    }\n",
       "\n",
       "    .dataframe tbody tr th {\n",
       "        vertical-align: top;\n",
       "    }\n",
       "\n",
       "    .dataframe thead th {\n",
       "        text-align: right;\n",
       "    }\n",
       "</style>\n",
       "<table border=\"1\" class=\"dataframe\">\n",
       "  <thead>\n",
       "    <tr style=\"text-align: right;\">\n",
       "      <th></th>\n",
       "      <th>index</th>\n",
       "      <th>PostalCode</th>\n",
       "      <th>Borough</th>\n",
       "      <th>Neighbourhood</th>\n",
       "      <th>Postal Code</th>\n",
       "      <th>Latitude</th>\n",
       "      <th>Longitude</th>\n",
       "    </tr>\n",
       "  </thead>\n",
       "  <tbody>\n",
       "    <tr>\n",
       "      <th>0</th>\n",
       "      <td>37</td>\n",
       "      <td>M4E</td>\n",
       "      <td>East Toronto</td>\n",
       "      <td>The Beaches</td>\n",
       "      <td>M4E</td>\n",
       "      <td>43.676357</td>\n",
       "      <td>-79.293031</td>\n",
       "    </tr>\n",
       "    <tr>\n",
       "      <th>1</th>\n",
       "      <td>41</td>\n",
       "      <td>M4K</td>\n",
       "      <td>East Toronto</td>\n",
       "      <td>The Danforth West, Riverdale</td>\n",
       "      <td>M4K</td>\n",
       "      <td>43.679557</td>\n",
       "      <td>-79.352188</td>\n",
       "    </tr>\n",
       "    <tr>\n",
       "      <th>2</th>\n",
       "      <td>42</td>\n",
       "      <td>M4L</td>\n",
       "      <td>East Toronto</td>\n",
       "      <td>The Beaches West, India Bazaar</td>\n",
       "      <td>M4L</td>\n",
       "      <td>43.668999</td>\n",
       "      <td>-79.315572</td>\n",
       "    </tr>\n",
       "    <tr>\n",
       "      <th>3</th>\n",
       "      <td>43</td>\n",
       "      <td>M4M</td>\n",
       "      <td>East Toronto</td>\n",
       "      <td>Studio District</td>\n",
       "      <td>M4M</td>\n",
       "      <td>43.659526</td>\n",
       "      <td>-79.340923</td>\n",
       "    </tr>\n",
       "    <tr>\n",
       "      <th>4</th>\n",
       "      <td>44</td>\n",
       "      <td>M4N</td>\n",
       "      <td>Central Toronto</td>\n",
       "      <td>Lawrence Park</td>\n",
       "      <td>M4N</td>\n",
       "      <td>43.728020</td>\n",
       "      <td>-79.388790</td>\n",
       "    </tr>\n",
       "  </tbody>\n",
       "</table>\n",
       "</div>"
      ],
      "text/plain": [
       "   index PostalCode          Borough                   Neighbourhood  \\\n",
       "0     37        M4E     East Toronto                     The Beaches   \n",
       "1     41        M4K     East Toronto    The Danforth West, Riverdale   \n",
       "2     42        M4L     East Toronto  The Beaches West, India Bazaar   \n",
       "3     43        M4M     East Toronto                 Studio District   \n",
       "4     44        M4N  Central Toronto                   Lawrence Park   \n",
       "\n",
       "  Postal Code   Latitude  Longitude  \n",
       "0         M4E  43.676357 -79.293031  \n",
       "1         M4K  43.679557 -79.352188  \n",
       "2         M4L  43.668999 -79.315572  \n",
       "3         M4M  43.659526 -79.340923  \n",
       "4         M4N  43.728020 -79.388790  "
      ]
     },
     "execution_count": 8,
     "metadata": {},
     "output_type": "execute_result"
    }
   ],
   "source": [
    "df_toronto = df_merge[df_merge['Borough'].str.contains(\"Toronto\")].reset_index()\n",
    "df_toronto.head() "
   ]
  },
  {
   "cell_type": "markdown",
   "metadata": {},
   "source": [
    "* Cluster the postal code based on location and create a new column 'cluster'"
   ]
  },
  {
   "cell_type": "code",
   "execution_count": 9,
   "metadata": {},
   "outputs": [
    {
     "data": {
      "text/html": [
       "<div>\n",
       "<style scoped>\n",
       "    .dataframe tbody tr th:only-of-type {\n",
       "        vertical-align: middle;\n",
       "    }\n",
       "\n",
       "    .dataframe tbody tr th {\n",
       "        vertical-align: top;\n",
       "    }\n",
       "\n",
       "    .dataframe thead th {\n",
       "        text-align: right;\n",
       "    }\n",
       "</style>\n",
       "<table border=\"1\" class=\"dataframe\">\n",
       "  <thead>\n",
       "    <tr style=\"text-align: right;\">\n",
       "      <th></th>\n",
       "      <th>index</th>\n",
       "      <th>PostalCode</th>\n",
       "      <th>Borough</th>\n",
       "      <th>Neighbourhood</th>\n",
       "      <th>Postal Code</th>\n",
       "      <th>Latitude</th>\n",
       "      <th>Longitude</th>\n",
       "      <th>cluster</th>\n",
       "    </tr>\n",
       "  </thead>\n",
       "  <tbody>\n",
       "    <tr>\n",
       "      <th>0</th>\n",
       "      <td>37</td>\n",
       "      <td>M4E</td>\n",
       "      <td>East Toronto</td>\n",
       "      <td>The Beaches</td>\n",
       "      <td>M4E</td>\n",
       "      <td>43.676357</td>\n",
       "      <td>-79.293031</td>\n",
       "      <td>0</td>\n",
       "    </tr>\n",
       "    <tr>\n",
       "      <th>1</th>\n",
       "      <td>41</td>\n",
       "      <td>M4K</td>\n",
       "      <td>East Toronto</td>\n",
       "      <td>The Danforth West, Riverdale</td>\n",
       "      <td>M4K</td>\n",
       "      <td>43.679557</td>\n",
       "      <td>-79.352188</td>\n",
       "      <td>0</td>\n",
       "    </tr>\n",
       "    <tr>\n",
       "      <th>2</th>\n",
       "      <td>42</td>\n",
       "      <td>M4L</td>\n",
       "      <td>East Toronto</td>\n",
       "      <td>The Beaches West, India Bazaar</td>\n",
       "      <td>M4L</td>\n",
       "      <td>43.668999</td>\n",
       "      <td>-79.315572</td>\n",
       "      <td>0</td>\n",
       "    </tr>\n",
       "    <tr>\n",
       "      <th>3</th>\n",
       "      <td>43</td>\n",
       "      <td>M4M</td>\n",
       "      <td>East Toronto</td>\n",
       "      <td>Studio District</td>\n",
       "      <td>M4M</td>\n",
       "      <td>43.659526</td>\n",
       "      <td>-79.340923</td>\n",
       "      <td>0</td>\n",
       "    </tr>\n",
       "    <tr>\n",
       "      <th>4</th>\n",
       "      <td>44</td>\n",
       "      <td>M4N</td>\n",
       "      <td>Central Toronto</td>\n",
       "      <td>Lawrence Park</td>\n",
       "      <td>M4N</td>\n",
       "      <td>43.728020</td>\n",
       "      <td>-79.388790</td>\n",
       "      <td>2</td>\n",
       "    </tr>\n",
       "  </tbody>\n",
       "</table>\n",
       "</div>"
      ],
      "text/plain": [
       "   index PostalCode          Borough                   Neighbourhood  \\\n",
       "0     37        M4E     East Toronto                     The Beaches   \n",
       "1     41        M4K     East Toronto    The Danforth West, Riverdale   \n",
       "2     42        M4L     East Toronto  The Beaches West, India Bazaar   \n",
       "3     43        M4M     East Toronto                 Studio District   \n",
       "4     44        M4N  Central Toronto                   Lawrence Park   \n",
       "\n",
       "  Postal Code   Latitude  Longitude  cluster  \n",
       "0         M4E  43.676357 -79.293031        0  \n",
       "1         M4K  43.679557 -79.352188        0  \n",
       "2         M4L  43.668999 -79.315572        0  \n",
       "3         M4M  43.659526 -79.340923        0  \n",
       "4         M4N  43.728020 -79.388790        2  "
      ]
     },
     "execution_count": 9,
     "metadata": {},
     "output_type": "execute_result"
    }
   ],
   "source": [
    "from sklearn.cluster import KMeans\n",
    "locations = df_toronto[['Latitude','Longitude']].values\n",
    "kmeans = KMeans(n_clusters=4, random_state=0).fit(locations)\n",
    "df_toronto['cluster'] = kmeans.labels_\n",
    "df_toronto.head()"
   ]
  },
  {
   "cell_type": "markdown",
   "metadata": {},
   "source": [
    "* Get the Latitude and the Longitude for the center of the map and draw the map"
   ]
  },
  {
   "cell_type": "code",
   "execution_count": 10,
   "metadata": {},
   "outputs": [],
   "source": [
    "Map_center = [(df_toronto.Latitude.max()+df_toronto.Latitude.min())/2,(df_toronto.Longitude.max()+df_toronto.Longitude.max())/2]"
   ]
  },
  {
   "cell_type": "markdown",
   "metadata": {},
   "source": [
    "* Draw the map and label the cluster with colors"
   ]
  },
  {
   "cell_type": "code",
   "execution_count": 15,
   "metadata": {},
   "outputs": [
    {
     "data": {
      "text/html": [
       "<div style=\"width:100%;\"><div style=\"position:relative;width:100%;height:0;padding-bottom:60%;\"><iframe src=\"data:text/html;charset=utf-8;base64,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\" style=\"position:absolute;width:100%;height:100%;left:0;top:0;border:none !important;\" allowfullscreen webkitallowfullscreen mozallowfullscreen></iframe></div></div>"
      ],
      "text/plain": [
       "<folium.folium.Map at 0x7f421256cda0>"
      ]
     },
     "execution_count": 15,
     "metadata": {},
     "output_type": "execute_result"
    }
   ],
   "source": [
    "import folium\n",
    "m = folium.Map(\n",
    "    location=Map_center,\n",
    "    zoom_start=12\n",
    ")\n",
    "color_list=['red','green','blue','orange']\n",
    "\n",
    "for index, row in df_toronto.iterrows():    \n",
    "    Latitude = row['Latitude']\n",
    "    Longitude = row['Longitude']\n",
    "    PostalCode = row['PostalCode'] + ': ' + row['Neighbourhood']\n",
    "    color = color_list[row['cluster']]\n",
    "    folium.Marker([Latitude, Longitude], popup= PostalCode, icon=folium.Icon(color=color)).add_to(m)\n",
    "m"
   ]
  },
  {
   "cell_type": "markdown",
   "metadata": {},
   "source": [
    "Thank you :)"
   ]
  },
  {
   "cell_type": "code",
   "execution_count": null,
   "metadata": {},
   "outputs": [],
   "source": []
  }
 ],
 "metadata": {
  "kernelspec": {
   "display_name": "Python 3",
   "language": "python",
   "name": "python3"
  },
  "language_info": {
   "codemirror_mode": {
    "name": "ipython",
    "version": 3
   },
   "file_extension": ".py",
   "mimetype": "text/x-python",
   "name": "python",
   "nbconvert_exporter": "python",
   "pygments_lexer": "ipython3",
   "version": "3.6.8"
  }
 },
 "nbformat": 4,
 "nbformat_minor": 2
}
